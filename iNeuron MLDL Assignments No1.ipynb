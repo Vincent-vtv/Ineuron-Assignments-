{
 "cells": [
  {
   "cell_type": "code",
   "execution_count": null,
   "metadata": {},
   "outputs": [],
   "source": [
    " \"\"\"\"\n",
    "Write a program which will find all such numbers which are divisible by 7 but are not a\n",
    "multiple of 5, between 2000 and 3200 (both included). The numbers obtained should be printed\n",
    "in a comma-separated sequence on a single line.\n",
    "\"\"\"\n",
    "nl = []\n",
    "for x in range (2000,3200):\n",
    "    if(x % 7 == 0) and (x % 5!= 0):\n",
    "        nl.append(str(x))\n",
    "print(','.join(nl))"
   ]
  },
  {
   "cell_type": "code",
   "execution_count": null,
   "metadata": {},
   "outputs": [],
   "source": [
    "for x in range (2000,3200):\n",
    "    if(x % 7 == 0) and (x % 5!= 0):\n",
    "        print(x,end =\",\" )"
   ]
  },
  {
   "cell_type": "code",
   "execution_count": null,
   "metadata": {},
   "outputs": [],
   "source": [
    "\"\"\"\n",
    "Write a Python program to accept the user's first and last name and then getting them\n",
    "printed in the the reverse order with a space between first name and last name.\n",
    "\"\"\"\n",
    "firstname = input(\"Pls. type your first name: \")\n",
    "lastname  = input(\"pls. type your last nmae: \")\n",
    "#print(\"first name {first} last name is {last} \".format(first=lastname,last=firstname))\n",
    "print(lastname + \" \" + firstname)"
   ]
  },
  {
   "cell_type": "code",
   "execution_count": 19,
   "metadata": {},
   "outputs": [
    {
     "name": "stdout",
     "output_type": "stream",
     "text": [
      "Volum of the sphere is :  904.7786842338603\n"
     ]
    }
   ],
   "source": [
    " #Write a Python program to find the volume of a sphere with diameter 12 cm. Formula: V=4/3 * π * r3\n",
    "pi=3.1415926535897931\n",
    "r=6\n",
    "V=4/3*pi*6**3\n",
    "print('Volum of the sphere is : ',V)\n"
   ]
  },
  {
   "cell_type": "code",
   "execution_count": null,
   "metadata": {},
   "outputs": [],
   "source": []
  }
 ],
 "metadata": {
  "kernelspec": {
   "display_name": "Python 3",
   "language": "python",
   "name": "python3"
  },
  "language_info": {
   "codemirror_mode": {
    "name": "ipython",
    "version": 3
   },
   "file_extension": ".py",
   "mimetype": "text/x-python",
   "name": "python",
   "nbconvert_exporter": "python",
   "pygments_lexer": "ipython3",
   "version": "3.8.3"
  }
 },
 "nbformat": 4,
 "nbformat_minor": 4
}
